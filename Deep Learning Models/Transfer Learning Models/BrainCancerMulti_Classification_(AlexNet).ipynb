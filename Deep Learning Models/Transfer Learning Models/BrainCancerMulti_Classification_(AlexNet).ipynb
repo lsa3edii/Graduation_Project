{
 "cells": [
  {
   "cell_type": "code",
   "execution_count": 1,
   "metadata": {
    "id": "nrBW2gxyU_rC"
   },
   "outputs": [],
   "source": [
    "# from google.colab import drive\n",
    "# drive.mount('/content/GoogleDrive')"
   ]
  },
  {
   "cell_type": "code",
   "execution_count": null,
   "metadata": {
    "colab": {
     "base_uri": "https://localhost:8080/"
    },
    "id": "lshnc8uV3WqP",
    "outputId": "0d11744e-3311-44df-c875-3c808860fb1b"
   },
   "outputs": [],
   "source": [
    "!pip install split-folders"
   ]
  },
  {
   "cell_type": "code",
   "execution_count": 3,
   "metadata": {
    "id": "poZ-XM9XVWlz"
   },
   "outputs": [],
   "source": [
    "import numpy as np\n",
    "import pandas as pd\n",
    "import tensorflow as tf\n",
    "\n",
    "from keras.models import Sequential, load_model\n",
    "from keras.layers import Conv2D, MaxPooling2D, Dropout, Flatten, Dense, BatchNormalization\n",
    "from keras.callbacks import EarlyStopping\n",
    "from tensorflow.keras.utils import plot_model\n",
    "from sklearn.metrics import confusion_matrix, ConfusionMatrixDisplay, zero_one_loss, classification_report\n",
    "from sklearn.model_selection import train_test_split\n",
    "from imutils import paths\n",
    "\n",
    "import matplotlib.pyplot as plt\n",
    "import seaborn as sb\n",
    "import splitfolders\n",
    "import cv2\n",
    "import random"
   ]
  },
  {
   "cell_type": "code",
   "execution_count": 4,
   "metadata": {
    "id": "C_sqJXglBJ6j"
   },
   "outputs": [],
   "source": [
    "inputFolder = 'C:\\\\Users\\\\user\\\\Desktop\\\\Graduation Project\\\\DataSets\\\\Brain Cancer'\n",
    "outputFolder = 'C:\\\\Users\\\\user\\\\Desktop\\\\Graduation Project\\\\image_dataset_(Brain)'\n",
    "\n",
    "# inputFolder = '/content/GoogleDrive/MyDrive/Colab Notebooks/Neural Networks/Graduation Project/Brain Cancer'\n",
    "# outputFolder = '/content/GoogleDrive/MyDrive/Colab Notebooks/Neural Networks/Graduation Project/image_dataset_(Brain)'"
   ]
  },
  {
   "cell_type": "code",
   "execution_count": null,
   "metadata": {
    "colab": {
     "base_uri": "https://localhost:8080/"
    },
    "id": "jH31LV_mV6DS",
    "outputId": "5bc01479-7980-477e-973a-19d1c94da318"
   },
   "outputs": [],
   "source": [
    "splitfolders.ratio(inputFolder, outputFolder, seed = 44, ratio = (0.8, 0.0, 0.2))"
   ]
  },
  {
   "cell_type": "code",
   "execution_count": 6,
   "metadata": {
    "colab": {
     "base_uri": "https://localhost:8080/"
    },
    "id": "IniMJGp9_IXg",
    "outputId": "75fb521b-3eaf-43ef-9f70-46eba400d2a9"
   },
   "outputs": [
    {
     "name": "stdout",
     "output_type": "stream",
     "text": [
      "['C:', 'Users', 'user', 'Desktop', 'Graduation Project', 'image_dataset_(Brain)', 'test', 'brain_glioma', 'brain_glioma_0001.jpg']\n",
      "['C:', 'Users', 'user', 'Desktop', 'Graduation Project', 'image_dataset_(Brain)', 'test', 'brain_glioma', 'brain_glioma_0001.jpg']\n",
      "['no_tumor', 'brain_menin', 'brain_glioma', 'brain_pituitary']\n",
      "['no_tumor', 'brain_menin', 'brain_glioma', 'brain_pituitary']\n",
      "16000 16000\n",
      "4000 4000\n",
      "16000 16000\n",
      "4000 4000\n"
     ]
    }
   ],
   "source": [
    "imgPaths = list(paths.list_images(outputFolder))\n",
    "print(imgPaths[0].split('\\\\'))\n",
    "\n",
    "random.shuffle(imgPaths)\n",
    "\n",
    "classes = [] # classes = ['brain_menin', 'brain_glioma', 'brain_pituitary', 'no_tumor']\n",
    "for imgPath in imgPaths:\n",
    "  className = imgPath.split('\\\\')[-2]\n",
    "\n",
    "  if className not in classes:\n",
    "    classes.append(className)\n",
    "\n",
    "print(classes)\n",
    "\n",
    "X_train = []\n",
    "y_train = []\n",
    "\n",
    "X_test = []\n",
    "y_test = []\n",
    "\n",
    "IMGSIZE = 227\n",
    "img_names = []\n",
    "\n",
    "for imgPath in imgPaths:\n",
    "  trainOrTest = imgPath.split('\\\\')[-3]\n",
    "  className = imgPath.split('\\\\')[-2]\n",
    "\n",
    "  img = cv2.imread(imgPath) #cv2.IMREAD_GRAYSCALE\n",
    "  img = cv2.resize(img, (IMGSIZE,IMGSIZE))\n",
    "\n",
    "  if trainOrTest == 'train':\n",
    "    X_train.append(img)\n",
    "    y_train.append(classes.index(className))\n",
    "    img_names.append(imgPath.split('\\\\')[-1])\n",
    "\n",
    "  elif trainOrTest == 'test':\n",
    "    X_test.append(img)\n",
    "    y_test.append(classes.index(className))\n",
    "\n",
    "print(len(X_train), len(y_train))\n",
    "print(len(X_test), len(y_test))"
   ]
  },
  {
   "cell_type": "code",
   "execution_count": null,
   "metadata": {
    "colab": {
     "base_uri": "https://localhost:8080/",
     "height": 223
    },
    "id": "0AqGy5iG7qnK",
    "outputId": "84149682-0fd0-4e5f-d96c-a136a16000e0"
   },
   "outputs": [],
   "source": [
    "df = pd.DataFrame({\n",
    "    'File Name' : img_names,\n",
    "    'Category' : y_train #y\n",
    "})\n",
    "\n",
    "# print(classes.index('brain_menin'))\n",
    "# print(classes.index('brain_glioma'))\n",
    "# print(classes.index('brain_pituitary'))\n",
    "# print(classes.index('no_tumor'))\n",
    "\n",
    "print(classes)\n",
    "df.head()"
   ]
  },
  {
   "cell_type": "code",
   "execution_count": null,
   "metadata": {
    "id": "Q0oAgWu1iCwU",
    "outputId": "6e216161-f411-4190-f4a4-893d6021afba"
   },
   "outputs": [],
   "source": [
    "sb.countplot(x = y_train)"
   ]
  },
  {
   "cell_type": "code",
   "execution_count": null,
   "metadata": {
    "id": "lG3ErWhViCwU",
    "outputId": "615c72d8-1ae0-42c1-a28b-7480dbe18e47"
   },
   "outputs": [],
   "source": [
    "sb.countplot(x = y_test)"
   ]
  },
  {
   "cell_type": "code",
   "execution_count": 11,
   "metadata": {
    "id": "zPNII54jDPgg"
   },
   "outputs": [],
   "source": [
    "X_train = np.array(X_train)\n",
    "y_train = np.array(y_train)\n",
    "\n",
    "X_test = np.array(X_test)\n",
    "y_test = np.array(y_test)"
   ]
  },
  {
   "cell_type": "code",
   "execution_count": 12,
   "metadata": {
    "id": "uoSDxV2_iCwV",
    "outputId": "b955e28a-fdbe-4f97-a77d-8d49d71dde31"
   },
   "outputs": [
    {
     "name": "stdout",
     "output_type": "stream",
     "text": [
      "(16000, 227, 227, 3) (16000,)\n",
      "(4000, 227, 227, 3) (4000,)\n",
      "(16000, 227, 227, 3) (16000,)\n",
      "(4000, 227, 227, 3) (4000,)\n"
     ]
    }
   ],
   "source": [
    "print(X_train.shape, y_train.shape)\n",
    "print(X_test.shape, y_test.shape)"
   ]
  },
  {
   "cell_type": "code",
   "execution_count": 13,
   "metadata": {
    "colab": {
     "base_uri": "https://localhost:8080/"
    },
    "id": "1hiVsLhx7g53",
    "outputId": "f4a3bda8-5521-4b6d-ddcb-de8bcd4dbf63"
   },
   "outputs": [
    {
     "name": "stdout",
     "output_type": "stream",
     "text": [
      "Epoch 1/20\n",
      "Epoch 1/20\n",
      "500/500 [==============================] - 2041s 4s/step - loss: 1.6001 - accuracy: 0.2654 - val_loss: 1.3871 - val_accuracy: 0.2500\n",
      "500/500 [==============================] - 2041s 4s/step - loss: 1.6001 - accuracy: 0.2654 - val_loss: 1.3871 - val_accuracy: 0.2500\n",
      "Epoch 2/20\n",
      "Epoch 2/20\n",
      "500/500 [==============================] - 2025s 4s/step - loss: 1.3874 - accuracy: 0.2407 - val_loss: 1.3864 - val_accuracy: 0.2500\n",
      "500/500 [==============================] - 2025s 4s/step - loss: 1.3874 - accuracy: 0.2407 - val_loss: 1.3864 - val_accuracy: 0.2500\n",
      "Epoch 3/20\n",
      "Epoch 3/20\n",
      "500/500 [==============================] - 2021s 4s/step - loss: 1.3869 - accuracy: 0.2466 - val_loss: 1.3864 - val_accuracy: 0.2500\n",
      "500/500 [==============================] - 2021s 4s/step - loss: 1.3869 - accuracy: 0.2466 - val_loss: 1.3864 - val_accuracy: 0.2500\n",
      "Epoch 4/20\n",
      "Epoch 4/20\n",
      "500/500 [==============================] - 2027s 4s/step - loss: 1.3867 - accuracy: 0.2555 - val_loss: 1.3865 - val_accuracy: 0.2500\n",
      "500/500 [==============================] - 2027s 4s/step - loss: 1.3867 - accuracy: 0.2555 - val_loss: 1.3865 - val_accuracy: 0.2500\n",
      "Epoch 5/20\n",
      "Epoch 5/20\n",
      "500/500 [==============================] - 2023s 4s/step - loss: 1.3867 - accuracy: 0.2472 - val_loss: 1.3866 - val_accuracy: 0.2500\n",
      "500/500 [==============================] - 2023s 4s/step - loss: 1.3867 - accuracy: 0.2472 - val_loss: 1.3866 - val_accuracy: 0.2500\n",
      "Epoch 6/20\n",
      "Epoch 6/20\n",
      "500/500 [==============================] - 2019s 4s/step - loss: 1.3866 - accuracy: 0.2499 - val_loss: 1.3865 - val_accuracy: 0.2500\n",
      "500/500 [==============================] - 2019s 4s/step - loss: 1.3866 - accuracy: 0.2499 - val_loss: 1.3865 - val_accuracy: 0.2500\n",
      "Epoch 7/20\n",
      "Epoch 7/20\n",
      "500/500 [==============================] - 2044s 4s/step - loss: 1.3867 - accuracy: 0.2461 - val_loss: 1.3864 - val_accuracy: 0.2500\n",
      "500/500 [==============================] - 2044s 4s/step - loss: 1.3867 - accuracy: 0.2461 - val_loss: 1.3864 - val_accuracy: 0.2500\n",
      "125/125 [==============================] - 96s 712ms/step\n",
      "Model: \"sequential\"\n",
      "_________________________________________________________________\n",
      " Layer (type)                Output Shape              Param #   \n",
      "=================================================================\n",
      " conv2d (Conv2D)             (None, 55, 55, 96)        34944     \n",
      "                                                                 \n",
      " batch_normalization (Batch  (None, 55, 55, 96)        384       \n",
      " Normalization)                                                  \n",
      "                                                                 \n",
      " max_pooling2d (MaxPooling2  (None, 27, 27, 96)        0         \n",
      " D)                                                              \n",
      "                                                                 \n",
      " conv2d_1 (Conv2D)           (None, 27, 27, 256)       614656    \n",
      "                                                                 \n",
      " max_pooling2d_1 (MaxPoolin  (None, 13, 13, 256)       0         \n",
      " g2D)                                                            \n",
      "                                                                 \n",
      " conv2d_2 (Conv2D)           (None, 13, 13, 384)       885120    \n",
      "                                                                 \n",
      " conv2d_3 (Conv2D)           (None, 13, 13, 384)       1327488   \n",
      "                                                                 \n",
      " conv2d_4 (Conv2D)           (None, 13, 13, 256)       884992    \n",
      "                                                                 \n",
      " max_pooling2d_2 (MaxPoolin  (None, 6, 6, 256)         0         \n",
      " g2D)                                                            \n",
      "                                                                 \n",
      "125/125 [==============================] - 96s 712ms/step\n",
      "Model: \"sequential\"\n",
      "_________________________________________________________________\n",
      " Layer (type)                Output Shape              Param #   \n",
      "=================================================================\n",
      " conv2d (Conv2D)             (None, 55, 55, 96)        34944     \n",
      "                                                                 \n",
      " batch_normalization (Batch  (None, 55, 55, 96)        384       \n",
      " Normalization)                                                  \n",
      "                                                                 \n",
      " max_pooling2d (MaxPooling2  (None, 27, 27, 96)        0         \n",
      " D)                                                              \n",
      "                                                                 \n",
      " conv2d_1 (Conv2D)           (None, 27, 27, 256)       614656    \n",
      "                                                                 \n",
      " max_pooling2d_1 (MaxPoolin  (None, 13, 13, 256)       0         \n",
      " g2D)                                                            \n",
      "                                                                 \n",
      " conv2d_2 (Conv2D)           (None, 13, 13, 384)       885120    \n",
      "                                                                 \n",
      " conv2d_3 (Conv2D)           (None, 13, 13, 384)       1327488   \n",
      "                                                                 \n",
      " conv2d_4 (Conv2D)           (None, 13, 13, 256)       884992    \n",
      "                                                                 \n",
      " max_pooling2d_2 (MaxPoolin  (None, 6, 6, 256)         0         \n",
      " g2D)                                                            \n",
      "                                                                 \n",
      " flatten (Flatten)           (None, 9216)              0         \n",
      "                                                                 \n",
      " dense (Dense)               (None, 4096)              37752832  \n",
      "                                                                 \n",
      " dropout (Dropout)           (None, 4096)              0         \n",
      "                                                                 \n",
      " dense_1 (Dense)             (None, 4096)              16781312  \n",
      "                                                                 \n",
      " dropout_1 (Dropout)         (None, 4096)              0         \n",
      "                                                                 \n",
      " dense_2 (Dense)             (None, 4)                 16388     \n",
      "                                                                 \n",
      "=================================================================\n",
      "Total params: 58298116 (222.39 MB)\n",
      "Trainable params: 58297924 (222.39 MB)\n",
      "Non-trainable params: 192 (768.00 Byte)\n",
      "_________________________________________________________________\n",
      " flatten (Flatten)           (None, 9216)              0         \n",
      "                                                                 \n",
      " dense (Dense)               (None, 4096)              37752832  \n",
      "                                                                 \n",
      " dropout (Dropout)           (None, 4096)              0         \n",
      "                                                                 \n",
      " dense_1 (Dense)             (None, 4096)              16781312  \n",
      "                                                                 \n",
      " dropout_1 (Dropout)         (None, 4096)              0         \n",
      "                                                                 \n",
      " dense_2 (Dense)             (None, 4)                 16388     \n",
      "                                                                 \n",
      "=================================================================\n",
      "Total params: 58298116 (222.39 MB)\n",
      "Trainable params: 58297924 (222.39 MB)\n",
      "Non-trainable params: 192 (768.00 Byte)\n",
      "_________________________________________________________________\n"
     ]
    }
   ],
   "source": [
    "model = Sequential()\n",
    "\n",
    "model.add(Conv2D(filters=96, kernel_size=(11, 11), strides=(4, 4), activation='relu', input_shape=(IMGSIZE, IMGSIZE, 3)))\n",
    "model.add(BatchNormalization())\n",
    "model.add(MaxPooling2D(pool_size=(3, 3), strides=(2, 2)))\n",
    "\n",
    "model.add(Conv2D(filters=256, kernel_size=(5, 5), padding='same', activation='relu'))\n",
    "model.add(MaxPooling2D(pool_size=(3, 3), strides=(2, 2)))\n",
    "\n",
    "model.add(Conv2D(filters=384, kernel_size=(3, 3), padding='same', activation='relu'))\n",
    "model.add(Conv2D(filters=384, kernel_size=(3, 3), padding='same', activation='relu'))\n",
    "model.add(Conv2D(filters=256, kernel_size=(3, 3), padding='same', activation='relu'))\n",
    "model.add(MaxPooling2D(pool_size=(3, 3), strides=(2, 2)))\n",
    "\n",
    "model.add(Flatten())\n",
    "model.add(Dense(4096, activation='relu'))\n",
    "model.add(Dropout(0.5))\n",
    "\n",
    "model.add(Dense(4096, activation='relu'))\n",
    "model.add(Dropout(0.5))\n",
    "\n",
    "model.add(Dense(4, activation='softmax'))\n",
    "          \n",
    "model.compile(optimizer = 'adam', loss = 'sparse_categorical_crossentropy', metrics = ['accuracy'])\n",
    "early_stopping = EarlyStopping(monitor = 'val_loss', patience = 5, restore_best_weights = True)\n",
    "results = model.fit(X_train, y_train, validation_data = (X_test, y_test), epochs = 20, batch_size = 32 , callbacks = [early_stopping])\n",
    "# val_loss, val_acc = model.evaluate(X_test, y_test)\n",
    "\n",
    "y_pred = model.predict(X_test)\n",
    "\n",
    "model.summary()"
   ]
  },
  {
   "cell_type": "code",
   "execution_count": null,
   "metadata": {
    "id": "aR8gzctW1IkY"
   },
   "outputs": [],
   "source": [
    "model.save('C:\\\\Users\\\\user\\\\Desktop\\\\Graduation Project\\\\model_image_(Brain)_AlexNet.h5')\n",
    "\n",
    "# model.save('/content/GoogleDrive/MyDrive/Colab Notebooks/Neural Networks/Graduation Project/model_image_(Brain).h5')\n",
    "# loaded_model = load_model('/content/GoogleDrive/MyDrive/Colab Notebooks/Neural Networks/Graduation Project/model_image_(Brain).h5')"
   ]
  },
  {
   "cell_type": "code",
   "execution_count": null,
   "metadata": {
    "colab": {
     "base_uri": "https://localhost:8080/",
     "height": 452
    },
    "id": "cId2mAn6eXWw",
    "outputId": "0cbabc84-be78-4a8e-f65a-9b1096d7c84d"
   },
   "outputs": [],
   "source": [
    "plt.plot(results.history['accuracy'], label = 'Training Accuracy')\n",
    "plt.plot(results.history['val_accuracy'], label = 'Testing Accuracy')\n",
    "plt.xlabel('Epochs')\n",
    "plt.ylabel('Accuracy')\n",
    "plt.legend()\n",
    "plt.show()"
   ]
  },
  {
   "cell_type": "code",
   "execution_count": null,
   "metadata": {
    "colab": {
     "base_uri": "https://localhost:8080/",
     "height": 449
    },
    "id": "uulcHW9Z2lRe",
    "outputId": "1bc356df-e01b-4b7d-ce8a-947d7098d4d6"
   },
   "outputs": [],
   "source": [
    "plt.plot(results.history['loss'], label = 'Training Loss')\n",
    "plt.plot(results.history['val_loss'], label = 'Testing Loss')\n",
    "plt.xlabel('Epochs')\n",
    "plt.ylabel('Loss')\n",
    "plt.legend()\n",
    "plt.show()"
   ]
  },
  {
   "cell_type": "code",
   "execution_count": null,
   "metadata": {
    "colab": {
     "base_uri": "https://localhost:8080/"
    },
    "id": "95YSmFe598P2",
    "outputId": "4c37f146-7153-495a-ffa9-cadd198d3466"
   },
   "outputs": [],
   "source": [
    "print(classes)\n",
    "print(y_test[:25], '\\n')\n",
    "print(y_pred[:25], '\\n')\n",
    "\n",
    "predict = []\n",
    "for i in range(len(y_pred)):\n",
    "  predict.append(np.argmax(y_pred[i]))\n",
    "\n",
    "print(predict[:25], '\\n')\n",
    "\n",
    "cm = confusion_matrix(y_test, predict)\n",
    "print(cm, '\\n')\n",
    "\n",
    "zol = zero_one_loss(y_test, predict, normalize = False)\n",
    "print(zol, '\\n')\n",
    "\n",
    "cr = classification_report(y_test, predict)\n",
    "print(cr)"
   ]
  },
  {
   "cell_type": "code",
   "execution_count": null,
   "metadata": {
    "colab": {
     "base_uri": "https://localhost:8080/",
     "height": 466
    },
    "id": "tyrQBSqkkrE4",
    "outputId": "0f058052-f6e1-4303-a8d7-a490e97a6d46",
    "scrolled": false
   },
   "outputs": [],
   "source": [
    "plt.figure(figsize = (5,5))\n",
    "ConfusionMatrixDisplay(cm).plot()\n",
    "plt.show()"
   ]
  },
  {
   "cell_type": "code",
   "execution_count": null,
   "metadata": {
    "id": "RMEDMRTRiCwW",
    "outputId": "76d56949-f39a-4893-c08a-5a9be2f2f601",
    "scrolled": true
   },
   "outputs": [],
   "source": [
    "sb.countplot(x = predict)"
   ]
  },
  {
   "cell_type": "code",
   "execution_count": null,
   "metadata": {
    "colab": {
     "base_uri": "https://localhost:8080/",
     "height": 1000
    },
    "id": "Yz0Or0ZaiCwX",
    "outputId": "c01432ee-f711-404b-afac-1f938a1c9e93",
    "scrolled": false
   },
   "outputs": [],
   "source": [
    "plot_model(model, show_shapes = True)"
   ]
  },
  {
   "cell_type": "code",
   "execution_count": null,
   "metadata": {
    "id": "1TD2Px9_iCwX",
    "outputId": "1d10738f-0073-4c1f-c319-1b5982bf424e",
    "scrolled": false
   },
   "outputs": [],
   "source": [
    "test_img_path = 'C:\\\\Users\\\\user\\\\Desktop\\\\Graduation Project\\\\image_dataset_(Brain)\\\\test\\brain_glioma\\\\brain_glioma_0077.jpg'\n",
    "# test_img_path = '/content/GoogleDrive/MyDrive/Colab Notebooks/Neural Networks/Graduation Project/image_dataset_(Brain)/test/brain_glioma/brain_glioma_4736.jpg'\n",
    "test_img = cv2.imread(test_img_path)\n",
    "test_img = cv2.resize(test_img , (IMGSIZE,IMGSIZE))\n",
    "\n",
    "plt.imshow(test_img)\n",
    "\n",
    "test_img = test_img[tf.newaxis, ...]\n",
    "test_predict = model.predict(test_img)\n",
    "\n",
    "str1 = test_img_path.split('\\\\')[-1].split('_')[0]\n",
    "str2 = test_img_path.split('\\\\')[-1].split('_')[1]\n",
    "str3 = classes[np.argmax(test_predict)].split('_')[0] + ' ' + classes[np.argmax(test_predict)].split('_')[1]\n",
    "\n",
    "plt.title('Actual: ' + str1 + ' ' + str2 + '\\n Predicted: ' + str3)\n",
    "\n",
    "print(test_predict)\n",
    "print(classes)\n",
    "plt.show()"
   ]
  }
 ],
 "metadata": {
  "colab": {
   "provenance": []
  },
  "gpuClass": "standard",
  "kernelspec": {
   "display_name": "Python 3 (ipykernel)",
   "language": "python",
   "name": "python3"
  },
  "language_info": {
   "codemirror_mode": {
    "name": "ipython",
    "version": 3
   },
   "file_extension": ".py",
   "mimetype": "text/x-python",
   "name": "python",
   "nbconvert_exporter": "python",
   "pygments_lexer": "ipython3",
   "version": "3.10.9"
  },
  "varInspector": {
   "cols": {
    "lenName": 16,
    "lenType": 16,
    "lenVar": 40
   },
   "kernels_config": {
    "python": {
     "delete_cmd_postfix": "",
     "delete_cmd_prefix": "del ",
     "library": "var_list.py",
     "varRefreshCmd": "print(var_dic_list())"
    },
    "r": {
     "delete_cmd_postfix": ") ",
     "delete_cmd_prefix": "rm(",
     "library": "var_list.r",
     "varRefreshCmd": "cat(var_dic_list()) "
    }
   },
   "types_to_exclude": [
    "module",
    "function",
    "builtin_function_or_method",
    "instance",
    "_Feature"
   ],
   "window_display": false
  }
 },
 "nbformat": 4,
 "nbformat_minor": 1
}
