{
 "cells": [
  {
   "cell_type": "code",
   "execution_count": null,
   "metadata": {
    "id": "nrBW2gxyU_rC"
   },
   "outputs": [],
   "source": [
    "# from google.colab import drive\n",
    "# drive.mount('/content/GoogleDrive')"
   ]
  },
  {
   "cell_type": "code",
   "execution_count": 1,
   "metadata": {
    "colab": {
     "base_uri": "https://localhost:8080/"
    },
    "id": "lshnc8uV3WqP",
    "outputId": "0d11744e-3311-44df-c875-3c808860fb1b"
   },
   "outputs": [
    {
     "name": "stdout",
     "output_type": "stream",
     "text": [
      "Requirement already satisfied: split-folders in c:\\users\\mooha\\anaconda3\\lib\\site-packages (0.5.1)\n"
     ]
    }
   ],
   "source": [
    "!pip install split-folders"
   ]
  },
  {
   "cell_type": "code",
   "execution_count": 1,
   "metadata": {
    "colab": {
     "base_uri": "https://localhost:8080/",
     "height": 373
    },
    "id": "poZ-XM9XVWlz",
    "outputId": "7db12c75-be4d-4899-b10a-f863e54dacec"
   },
   "outputs": [],
   "source": [
    "import numpy as np\n",
    "import pandas as pd\n",
    "import tensorflow as tf\n",
    "\n",
    "from keras.models import Sequential, load_model\n",
    "from keras.applications import ResNet50\n",
    "from keras.layers import Conv2D, MaxPooling2D, Dropout, Flatten, Dense, BatchNormalization\n",
    "from keras.callbacks import EarlyStopping\n",
    "from keras.utils.vis_utils import plot_model\n",
    "from sklearn.metrics import confusion_matrix, ConfusionMatrixDisplay, zero_one_loss, classification_report\n",
    "from sklearn.model_selection import train_test_split\n",
    "from imutils import paths\n",
    "\n",
    "import matplotlib.pyplot as plt\n",
    "import seaborn as sb\n",
    "import splitfolders\n",
    "import cv2\n",
    "import random"
   ]
  },
  {
   "cell_type": "code",
   "execution_count": 2,
   "metadata": {
    "id": "C_sqJXglBJ6j"
   },
   "outputs": [],
   "source": [
    "inputFolder = 'C:\\\\Users\\\\mooha\\\\jupyter\\\\Graduation Project\\\\image_datasets\\\\Brain Cancer'\n",
    "outputFolder = 'C:\\\\Users\\\\mooha\\\\jupyter\\\\Graduation Project\\\\image_dataset_(Brain)'\n",
    "# inputFolder = '/content/GoogleDrive/MyDrive/Colab Notebooks/Neural Networks/Graduation Project/Brain Cancer'\n",
    "# outputFolder = '/content/GoogleDrive/MyDrive/Colab Notebooks/Neural Networks/Graduation Project/image_dataset_(Brain) '"
   ]
  },
  {
   "cell_type": "code",
   "execution_count": null,
   "metadata": {
    "colab": {
     "base_uri": "https://localhost:8080/"
    },
    "id": "jH31LV_mV6DS",
    "outputId": "5bc01479-7980-477e-973a-19d1c94da318"
   },
   "outputs": [
    {
     "name": "stderr",
     "output_type": "stream",
     "text": [
      "Copying files: 20000 files [01:19, 251.00 files/s] \n"
     ]
    }
   ],
   "source": [
    "splitfolders.ratio(inputFolder, outputFolder, seed = 44, ratio = (0.8, 0.0, 0.2))"
   ]
  },
  {
   "cell_type": "code",
   "execution_count": 3,
   "metadata": {
    "colab": {
     "base_uri": "https://localhost:8080/"
    },
    "id": "IniMJGp9_IXg",
    "outputId": "75fb521b-3eaf-43ef-9f70-46eba400d2a9"
   },
   "outputs": [
    {
     "name": "stdout",
     "output_type": "stream",
     "text": [
      "['C:', 'Users', 'mooha', 'jupyter', 'Graduation Project', 'image_dataset_(Brain)', 'test', 'brain_glioma', 'brain_glioma_0001.jpg']\n",
      "['brain_pituitary', 'no_tumor', 'brain_menin', 'brain_glioma']\n",
      "16000 16000\n",
      "4000 4000\n"
     ]
    }
   ],
   "source": [
    "imgPaths = list(paths.list_images(outputFolder))\n",
    "print(imgPaths[0].split('\\\\'))\n",
    "\n",
    "random.shuffle(imgPaths)\n",
    "\n",
    "classes = [] # classes = ['brain_menin', 'brain_glioma', 'brain_pituitary', 'no_tumor']\n",
    "for imgPath in imgPaths:\n",
    "  className = imgPath.split('\\\\')[-2]\n",
    "\n",
    "  if className not in classes:\n",
    "    classes.append(className)\n",
    "\n",
    "print(classes)\n",
    "\n",
    "X_train = []\n",
    "y_train = []\n",
    "\n",
    "X_test = []\n",
    "y_test = []\n",
    "\n",
    "IMGSIZE = 128\n",
    "img_names = []\n",
    "\n",
    "for imgPath in imgPaths:\n",
    "  trainOrTest = imgPath.split('\\\\')[-3]\n",
    "  className = imgPath.split('\\\\')[-2]\n",
    "\n",
    "  img = cv2.imread(imgPath) #cv2.IMREAD_GRAYSCALE\n",
    "  img = cv2.resize(img, (IMGSIZE,IMGSIZE))\n",
    "\n",
    "  if trainOrTest == 'train':\n",
    "    X_train.append(img)\n",
    "    y_train.append(classes.index(className))\n",
    "    img_names.append(imgPath.split('\\\\')[-1])\n",
    "\n",
    "  elif trainOrTest == 'test':\n",
    "    X_test.append(img)\n",
    "    y_test.append(classes.index(className))\n",
    "\n",
    "print(len(X_train), len(y_train))\n",
    "print(len(X_test), len(y_test))"
   ]
  },
  {
   "cell_type": "code",
   "execution_count": null,
   "metadata": {
    "colab": {
     "base_uri": "https://localhost:8080/",
     "height": 223
    },
    "id": "0AqGy5iG7qnK",
    "outputId": "84149682-0fd0-4e5f-d96c-a136a16000e0"
   },
   "outputs": [],
   "source": [
    "df = pd.DataFrame({\n",
    "    'File Name' : img_names,\n",
    "    'Category' : y_train #y\n",
    "})\n",
    "\n",
    "# print(classes.index('brain_menin'))\n",
    "# print(classes.index('brain_glioma'))\n",
    "# print(classes.index('brain_pituitary'))\n",
    "# print(classes.index('no_tumor'))\n",
    "\n",
    "print(classes)\n",
    "df.head()"
   ]
  },
  {
   "cell_type": "code",
   "execution_count": null,
   "metadata": {
    "id": "Q0oAgWu1iCwU",
    "outputId": "6e216161-f411-4190-f4a4-893d6021afba"
   },
   "outputs": [],
   "source": [
    "sb.countplot(x = y_train)"
   ]
  },
  {
   "cell_type": "code",
   "execution_count": null,
   "metadata": {
    "id": "lG3ErWhViCwU",
    "outputId": "615c72d8-1ae0-42c1-a28b-7480dbe18e47"
   },
   "outputs": [],
   "source": [
    "sb.countplot(x = y_test)"
   ]
  },
  {
   "cell_type": "code",
   "execution_count": 7,
   "metadata": {
    "id": "zPNII54jDPgg"
   },
   "outputs": [],
   "source": [
    "X_train = np.array(X_train)\n",
    "y_train = np.array(y_train)\n",
    "\n",
    "X_test = np.array(X_test)\n",
    "y_test = np.array(y_test)"
   ]
  },
  {
   "cell_type": "code",
   "execution_count": 8,
   "metadata": {
    "id": "uoSDxV2_iCwV",
    "outputId": "b955e28a-fdbe-4f97-a77d-8d49d71dde31"
   },
   "outputs": [
    {
     "name": "stdout",
     "output_type": "stream",
     "text": [
      "(16000, 128, 128, 3) (16000,)\n",
      "(4000, 128, 128, 3) (4000,)\n"
     ]
    }
   ],
   "source": [
    "print(X_train.shape, y_train.shape)\n",
    "print(X_test.shape, y_test.shape)"
   ]
  },
  {
   "cell_type": "code",
   "execution_count": 10,
   "metadata": {
    "colab": {
     "base_uri": "https://localhost:8080/"
    },
    "id": "1hiVsLhx7g53",
    "outputId": "f4a3bda8-5521-4b6d-ddcb-de8bcd4dbf63"
   },
   "outputs": [
    {
     "name": "stdout",
     "output_type": "stream",
     "text": [
      "Downloading data from https://storage.googleapis.com/tensorflow/keras-applications/resnet/resnet50_weights_tf_dim_ordering_tf_kernels_notop.h5\n",
      "94765736/94765736 [==============================] - 30s 0us/step\n",
      "Epoch 1/5\n",
      "500/500 [==============================] - 266s 525ms/step - loss: 0.6982 - accuracy: 0.8288 - val_loss: 0.1965 - val_accuracy: 0.9245\n",
      "Epoch 2/5\n",
      "500/500 [==============================] - 267s 534ms/step - loss: 0.2428 - accuracy: 0.9133 - val_loss: 0.1573 - val_accuracy: 0.9452\n",
      "Epoch 3/5\n",
      "500/500 [==============================] - 268s 536ms/step - loss: 0.1952 - accuracy: 0.9322 - val_loss: 0.1362 - val_accuracy: 0.9563\n",
      "Epoch 4/5\n",
      "500/500 [==============================] - 276s 552ms/step - loss: 0.1567 - accuracy: 0.9478 - val_loss: 0.1207 - val_accuracy: 0.9575\n",
      "Epoch 5/5\n",
      "500/500 [==============================] - 274s 548ms/step - loss: 0.1199 - accuracy: 0.9587 - val_loss: 0.1213 - val_accuracy: 0.9595\n",
      "125/125 [==============================] - 53s 409ms/step\n",
      "Model: \"sequential\"\n",
      "_________________________________________________________________\n",
      " Layer (type)                Output Shape              Param #   \n",
      "=================================================================\n",
      " resnet50 (Functional)       (None, 4, 4, 2048)        23587712  \n",
      "                                                                 \n",
      " flatten (Flatten)           (None, 32768)             0         \n",
      "                                                                 \n",
      " dense (Dense)               (None, 256)               8388864   \n",
      "                                                                 \n",
      " dropout (Dropout)           (None, 256)               0         \n",
      "                                                                 \n",
      " dense_1 (Dense)             (None, 128)               32896     \n",
      "                                                                 \n",
      " dropout_1 (Dropout)         (None, 128)               0         \n",
      "                                                                 \n",
      " dense_2 (Dense)             (None, 64)                8256      \n",
      "                                                                 \n",
      " dense_3 (Dense)             (None, 4)                 260       \n",
      "                                                                 \n",
      "=================================================================\n",
      "Total params: 32,017,988\n",
      "Trainable params: 8,430,276\n",
      "Non-trainable params: 23,587,712\n",
      "_________________________________________________________________\n"
     ]
    }
   ],
   "source": [
    "input_shape = (IMGSIZE, IMGSIZE, 3) #tuple\n",
    "num_classes = 4\n",
    "\n",
    "# Load the pre-trained ResNet50 model (without the top classification layer)\n",
    "base_model = ResNet50(weights = 'imagenet', include_top = False, input_shape = input_shape)\n",
    "\n",
    "# Freeze the layers of the pre-trained model\n",
    "for layer in base_model.layers:\n",
    "    layer.trainable = False\n",
    "\n",
    "resnet_model = Sequential()\n",
    "\n",
    "resnet_model.add(base_model)\n",
    "resnet_model.add(Flatten())\n",
    "\n",
    "resnet_model.add(Dense(256, activation = 'relu'))\n",
    "resnet_model.add(Dropout(0.25))\n",
    "\n",
    "resnet_model.add(Dense(128, activation = 'relu'))\n",
    "resnet_model.add(Dropout(0.25))\n",
    "\n",
    "resnet_model.add(Dense(64, activation = 'relu'))\n",
    "resnet_model.add(Dense(num_classes, activation = 'softmax'))\n",
    "\n",
    "resnet_model.compile(optimizer = 'adam', loss = 'sparse_categorical_crossentropy', metrics = ['accuracy'])\n",
    "early_stopping = EarlyStopping(monitor = 'val_loss', patience = 5, restore_best_weights = True)\n",
    "results = resnet_model.fit(X_train, y_train, validation_data = (X_test, y_test), epochs = 5, batch_size = 32, callbacks = [early_stopping]) \n",
    "# val_loss, val_acc = resnet_model.evaluate(X_test, y_test)\n",
    "\n",
    "y_pred = resnet_model.predict(X_test)\n",
    "\n",
    "resnet_model.summary()"
   ]
  },
  {
   "cell_type": "code",
   "execution_count": 2,
   "metadata": {},
   "outputs": [],
   "source": [
    "classes = ['brain_menin', 'brain_glioma', 'brain_pituitary', 'no_tumor']\n",
    "IMGSIZE = 128"
   ]
  },
  {
   "cell_type": "code",
   "execution_count": 3,
   "metadata": {
    "id": "aR8gzctW1IkY"
   },
   "outputs": [],
   "source": [
    "# model.save('C:\\\\Users\\\\mooha\\\\jupyter\\\\Graduation Project\\\\model_image_(resNet).h5')\n",
    "loaded_model = load_model('C:\\\\Users\\\\mooha\\\\jupyter\\\\Graduation Project\\\\model_image_(resNet).h5')\n",
    "\n",
    "# model.save('/content/GoogleDrive/MyDrive/Colab Notebooks/Neural Networks/Graduation Project/model_image_(Brain).h5')\n",
    "# loaded_model = model.load_weights('/content/GoogleDrive/MyDrive/Colab Notebooks/Neural Networks/Graduation Project/model_image_(Brain).h5')  "
   ]
  },
  {
   "cell_type": "code",
   "execution_count": null,
   "metadata": {
    "colab": {
     "base_uri": "https://localhost:8080/",
     "height": 452
    },
    "id": "cId2mAn6eXWw",
    "outputId": "0cbabc84-be78-4a8e-f65a-9b1096d7c84d"
   },
   "outputs": [],
   "source": [
    "plt.plot(results.history['accuracy'], label = 'Training Accuracy')\n",
    "plt.plot(results.history['val_accuracy'], label = 'Testing Accuracy')\n",
    "plt.xlabel('Epochs')\n",
    "plt.ylabel('Accuracy')\n",
    "plt.legend()\n",
    "plt.show()"
   ]
  },
  {
   "cell_type": "code",
   "execution_count": null,
   "metadata": {
    "colab": {
     "base_uri": "https://localhost:8080/",
     "height": 449
    },
    "id": "uulcHW9Z2lRe",
    "outputId": "1bc356df-e01b-4b7d-ce8a-947d7098d4d6"
   },
   "outputs": [],
   "source": [
    "plt.plot(results.history['loss'], label = 'Training Loss')\n",
    "plt.plot(results.history['val_loss'], label = 'Testing Loss')\n",
    "plt.xlabel('Epochs')\n",
    "plt.ylabel('Loss')\n",
    "plt.legend()\n",
    "plt.show()"
   ]
  },
  {
   "cell_type": "code",
   "execution_count": 13,
   "metadata": {
    "colab": {
     "base_uri": "https://localhost:8080/"
    },
    "id": "95YSmFe598P2",
    "outputId": "4c37f146-7153-495a-ffa9-cadd198d3466"
   },
   "outputs": [
    {
     "name": "stdout",
     "output_type": "stream",
     "text": [
      "['brain_pituitary', 'no_tumor', 'brain_menin', 'brain_glioma']\n",
      "[0 2 2 2 1 2 1 1 1 0 2 3 2 3 1 1 0 0 1 0 2 0 1 3 2] \n",
      "\n",
      "[[6.70985162e-01 7.88721954e-05 3.28799695e-01 1.36322720e-04]\n",
      " [6.78911533e-07 4.73741046e-09 9.99280214e-01 7.19009433e-04]\n",
      " [5.80501514e-08 2.10330545e-10 9.99979198e-01 2.08011334e-05]\n",
      " [6.46960762e-05 7.53137442e-07 9.90081728e-01 9.85282566e-03]\n",
      " [1.58353796e-26 9.99999940e-01 6.76361636e-27 3.47100623e-25]\n",
      " [2.81022608e-07 1.20850283e-11 9.99969065e-01 3.05784961e-05]\n",
      " [8.33413916e-32 9.99999940e-01 2.39739543e-28 2.26754854e-29]\n",
      " [3.56471991e-34 9.99999940e-01 2.20899137e-33 3.25908908e-34]\n",
      " [9.27694366e-21 9.99999940e-01 1.63287066e-18 4.63699667e-19]\n",
      " [9.99924362e-01 1.66609018e-11 7.56077061e-05 1.15026304e-11]\n",
      " [2.49993708e-03 7.28131199e-05 9.66573179e-01 3.08541078e-02]\n",
      " [7.46239053e-08 5.35925911e-14 1.93771257e-08 9.99999821e-01]\n",
      " [7.21563725e-03 1.74557819e-04 8.87294412e-01 1.05315447e-01]\n",
      " [2.30758110e-06 1.61541104e-12 1.13827173e-06 9.99996483e-01]\n",
      " [0.00000000e+00 9.99999940e-01 0.00000000e+00 0.00000000e+00]\n",
      " [0.00000000e+00 9.99999940e-01 0.00000000e+00 0.00000000e+00]\n",
      " [9.97691870e-01 1.74656202e-06 2.30627041e-03 7.06969274e-08]\n",
      " [7.91409075e-01 1.78532253e-04 2.76328772e-02 1.80779487e-01]\n",
      " [0.00000000e+00 9.99999940e-01 0.00000000e+00 0.00000000e+00]\n",
      " [9.99995887e-01 2.67221466e-12 4.03807326e-06 2.73187045e-13]\n",
      " [1.98265635e-08 1.11649882e-12 9.99995291e-01 4.64015602e-06]\n",
      " [4.60347891e-01 3.20384130e-02 4.51489002e-01 5.61248399e-02]\n",
      " [1.31239411e-25 9.99999940e-01 1.41485958e-23 3.80358783e-23]\n",
      " [3.09961547e-06 1.57915868e-11 4.31405715e-06 9.99992549e-01]\n",
      " [3.63312643e-06 2.66183928e-08 9.98955727e-01 1.04048755e-03]] \n",
      "\n",
      "[0, 2, 2, 2, 1, 2, 1, 1, 1, 0, 2, 3, 2, 3, 1, 1, 0, 0, 1, 0, 2, 0, 1, 3, 2] \n",
      "\n",
      "[[979   0  21   0]\n",
      " [  0 996   1   3]\n",
      " [ 64   0 907  29]\n",
      " [  7   0  37 956]] \n",
      "\n",
      "162 \n",
      "\n",
      "              precision    recall  f1-score   support\n",
      "\n",
      "           0       0.93      0.98      0.96      1000\n",
      "           1       1.00      1.00      1.00      1000\n",
      "           2       0.94      0.91      0.92      1000\n",
      "           3       0.97      0.96      0.96      1000\n",
      "\n",
      "    accuracy                           0.96      4000\n",
      "   macro avg       0.96      0.96      0.96      4000\n",
      "weighted avg       0.96      0.96      0.96      4000\n",
      "\n"
     ]
    }
   ],
   "source": [
    "print(classes)\n",
    "print(y_test[:25], '\\n')\n",
    "print(y_pred[:25], '\\n')\n",
    "\n",
    "predict = []\n",
    "for i in range(len(y_pred)):\n",
    "  predict.append(np.argmax(y_pred[i]))\n",
    "\n",
    "print(predict[:25], '\\n')\n",
    "\n",
    "cm = confusion_matrix(y_test, predict)\n",
    "print(cm, '\\n')\n",
    "\n",
    "zol = zero_one_loss(y_test, predict, normalize = False)\n",
    "print(zol, '\\n')\n",
    "\n",
    "cr = classification_report(y_test, predict)\n",
    "print(cr)"
   ]
  },
  {
   "cell_type": "code",
   "execution_count": null,
   "metadata": {
    "colab": {
     "base_uri": "https://localhost:8080/",
     "height": 466
    },
    "id": "tyrQBSqkkrE4",
    "outputId": "0f058052-f6e1-4303-a8d7-a490e97a6d46",
    "scrolled": false
   },
   "outputs": [],
   "source": [
    "plt.figure(figsize = (5,5))\n",
    "ConfusionMatrixDisplay(cm).plot()\n",
    "plt.show()"
   ]
  },
  {
   "cell_type": "code",
   "execution_count": null,
   "metadata": {
    "id": "RMEDMRTRiCwW",
    "outputId": "76d56949-f39a-4893-c08a-5a9be2f2f601"
   },
   "outputs": [],
   "source": [
    "sb.countplot(x = predict)"
   ]
  },
  {
   "cell_type": "code",
   "execution_count": null,
   "metadata": {
    "colab": {
     "base_uri": "https://localhost:8080/",
     "height": 1000
    },
    "id": "Yz0Or0ZaiCwX",
    "outputId": "c01432ee-f711-404b-afac-1f938a1c9e93",
    "scrolled": false
   },
   "outputs": [],
   "source": [
    "plot_model(model, show_shapes = True)"
   ]
  },
  {
   "cell_type": "code",
   "execution_count": null,
   "metadata": {
    "id": "1TD2Px9_iCwX",
    "outputId": "1d10738f-0073-4c1f-c319-1b5982bf424e",
    "scrolled": false
   },
   "outputs": [],
   "source": [
    "test_img_path = 'C:\\\\Users\\\\mooha\\\\jupyter\\\\Graduation Project\\\\image_dataset_(Brain)\\\\test\\\\brain_glioma\\\\brain_glioma_4736.jpg'\n",
    "# test_img_path = '/content/GoogleDrive/MyDrive/Colab Notebooks/Neural Networks/Graduation Project/image_dataset_(Brain)/test/brain_glioma/brain_glioma_4736.jpg'  \n",
    "test_img = cv2.imread(test_img_path)\n",
    "test_img = cv2.resize(test_img, (IMGSIZE,IMGSIZE))\n",
    "\n",
    "plt.imshow(test_img)\n",
    "\n",
    "test_img = test_img[tf.newaxis, ...]\n",
    "test_predict = resnet_model.predict(test_img)\n",
    "# test_predict = loaded_model(test_img)\n",
    "\n",
    "str1 = test_img_path.split('\\\\')[-1].split('_')[0]\n",
    "str2 = test_img_path.split('\\\\')[-1].split('_')[1]\n",
    "str3 = classes[np.argmax(test_predict)].split('_')[0] + ' ' + classes[np.argmax(test_predict)].split('_')[1]\n",
    "\n",
    "plt.title('Actual: ' + str1 + ' ' + str2 + '\\n Predicted: ' + str3)\n",
    "\n",
    "print(test_predict)\n",
    "print(classes)\n",
    "plt.show()"
   ]
  }
 ],
 "metadata": {
  "colab": {
   "provenance": []
  },
  "gpuClass": "standard",
  "kernelspec": {
   "display_name": "Python 3 (ipykernel)",
   "language": "python",
   "name": "python3"
  },
  "language_info": {
   "codemirror_mode": {
    "name": "ipython",
    "version": 3
   },
   "file_extension": ".py",
   "mimetype": "text/x-python",
   "name": "python",
   "nbconvert_exporter": "python",
   "pygments_lexer": "ipython3",
   "version": "3.10.9"
  },
  "varInspector": {
   "cols": {
    "lenName": 16,
    "lenType": 16,
    "lenVar": 40
   },
   "kernels_config": {
    "python": {
     "delete_cmd_postfix": "",
     "delete_cmd_prefix": "del ",
     "library": "var_list.py",
     "varRefreshCmd": "print(var_dic_list())"
    },
    "r": {
     "delete_cmd_postfix": ") ",
     "delete_cmd_prefix": "rm(",
     "library": "var_list.r",
     "varRefreshCmd": "cat(var_dic_list()) "
    }
   },
   "types_to_exclude": [
    "module",
    "function",
    "builtin_function_or_method",
    "instance",
    "_Feature"
   ],
   "window_display": false
  }
 },
 "nbformat": 4,
 "nbformat_minor": 1
}
