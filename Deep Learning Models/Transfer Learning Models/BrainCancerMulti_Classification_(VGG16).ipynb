{
 "cells": [
  {
   "cell_type": "code",
   "execution_count": null,
   "metadata": {
    "id": "nrBW2gxyU_rC"
   },
   "outputs": [],
   "source": [
    "# from google.colab import drive\n",
    "# drive.mount('/content/GoogleDrive')"
   ]
  },
  {
   "cell_type": "code",
   "execution_count": 1,
   "metadata": {
    "colab": {
     "base_uri": "https://localhost:8080/"
    },
    "id": "lshnc8uV3WqP",
    "outputId": "0d11744e-3311-44df-c875-3c808860fb1b"
   },
   "outputs": [
    {
     "name": "stdout",
     "output_type": "stream",
     "text": [
      "Requirement already satisfied: split-folders in c:\\users\\mooha\\anaconda3\\lib\\site-packages (0.5.1)\n"
     ]
    }
   ],
   "source": [
    "!pip install split-folders"
   ]
  },
  {
   "cell_type": "code",
   "execution_count": 13,
   "metadata": {
    "colab": {
     "base_uri": "https://localhost:8080/",
     "height": 373
    },
    "id": "poZ-XM9XVWlz",
    "outputId": "7db12c75-be4d-4899-b10a-f863e54dacec"
   },
   "outputs": [],
   "source": [
    "import numpy as np\n",
    "import pandas as pd\n",
    "import tensorflow as tf\n",
    "\n",
    "from keras.models import Sequential, Model, load_model\n",
    "from keras.applications import VGG16\n",
    "from keras.layers import Flatten, Dense, MaxPooling2D, GlobalAveragePooling2D, Dropout\n",
    "\n",
    "from keras.callbacks import EarlyStopping\n",
    "from keras.utils.vis_utils import plot_model\n",
    "from sklearn.metrics import confusion_matrix, ConfusionMatrixDisplay, zero_one_loss, classification_report\n",
    "from sklearn.model_selection import train_test_split\n",
    "from imutils import paths\n",
    "\n",
    "import matplotlib.pyplot as plt\n",
    "import seaborn as sb\n",
    "import splitfolders\n",
    "import cv2\n",
    "import random"
   ]
  },
  {
   "cell_type": "code",
   "execution_count": 3,
   "metadata": {
    "id": "C_sqJXglBJ6j"
   },
   "outputs": [],
   "source": [
    "inputFolder = 'C:\\\\Users\\\\mooha\\\\jupyter\\\\Graduation Project\\\\image_datasets\\\\Brain Cancer'\n",
    "outputFolder = 'C:\\\\Users\\\\mooha\\\\jupyter\\\\Graduation Project\\\\image_dataset_(Brain)'\n",
    "# inputFolder = '/content/GoogleDrive/MyDrive/Colab Notebooks/Neural Networks/Graduation Project/Brain Cancer'\n",
    "# outputFolder = '/content/GoogleDrive/MyDrive/Colab Notebooks/Neural Networks/Graduation Project/image_dataset_(Brain) '"
   ]
  },
  {
   "cell_type": "code",
   "execution_count": null,
   "metadata": {
    "colab": {
     "base_uri": "https://localhost:8080/"
    },
    "id": "jH31LV_mV6DS",
    "outputId": "5bc01479-7980-477e-973a-19d1c94da318"
   },
   "outputs": [
    {
     "name": "stderr",
     "output_type": "stream",
     "text": [
      "Copying files: 20000 files [01:19, 251.00 files/s] \n"
     ]
    }
   ],
   "source": [
    "splitfolders.ratio(inputFolder, outputFolder, seed = 44, ratio = (0.8, 0.0, 0.2))"
   ]
  },
  {
   "cell_type": "code",
   "execution_count": 4,
   "metadata": {
    "colab": {
     "base_uri": "https://localhost:8080/"
    },
    "id": "IniMJGp9_IXg",
    "outputId": "75fb521b-3eaf-43ef-9f70-46eba400d2a9"
   },
   "outputs": [
    {
     "name": "stdout",
     "output_type": "stream",
     "text": [
      "['C:', 'Users', 'mooha', 'jupyter', 'Graduation Project', 'image_dataset_(Brain)', 'test', 'brain_glioma', 'brain_glioma_0001.jpg']\n",
      "['brain_glioma', 'brain_menin', 'no_tumor', 'brain_pituitary']\n",
      "16000 16000\n",
      "4000 4000\n"
     ]
    }
   ],
   "source": [
    "imgPaths = list(paths.list_images(outputFolder))\n",
    "print(imgPaths[0].split('\\\\'))\n",
    "\n",
    "random.shuffle(imgPaths)\n",
    "\n",
    "classes = [] # classes = ['brain_menin', 'brain_glioma', 'brain_pituitary', 'no_tumor']\n",
    "for imgPath in imgPaths:\n",
    "  className = imgPath.split('\\\\')[-2]\n",
    "\n",
    "  if className not in classes:\n",
    "    classes.append(className)\n",
    "\n",
    "print(classes)\n",
    "\n",
    "X_train = []\n",
    "y_train = []\n",
    "\n",
    "X_test = []\n",
    "y_test = []\n",
    "\n",
    "IMGSIZE = 128\n",
    "img_names = []\n",
    "\n",
    "for imgPath in imgPaths:\n",
    "  trainOrTest = imgPath.split('\\\\')[-3]\n",
    "  className = imgPath.split('\\\\')[-2]\n",
    "\n",
    "  img = cv2.imread(imgPath) #cv2.IMREAD_GRAYSCALE\n",
    "  img = cv2.resize(img, (IMGSIZE,IMGSIZE))\n",
    "\n",
    "  if trainOrTest == 'train':\n",
    "    X_train.append(img)\n",
    "    y_train.append(classes.index(className))\n",
    "    img_names.append(imgPath.split('\\\\')[-1])\n",
    "\n",
    "  elif trainOrTest == 'test':\n",
    "    X_test.append(img)\n",
    "    y_test.append(classes.index(className))\n",
    "\n",
    "print(len(X_train), len(y_train))\n",
    "print(len(X_test), len(y_test))"
   ]
  },
  {
   "cell_type": "code",
   "execution_count": null,
   "metadata": {
    "colab": {
     "base_uri": "https://localhost:8080/",
     "height": 223
    },
    "id": "0AqGy5iG7qnK",
    "outputId": "84149682-0fd0-4e5f-d96c-a136a16000e0"
   },
   "outputs": [],
   "source": [
    "df = pd.DataFrame({\n",
    "    'File Name' : img_names,\n",
    "    'Category' : y_train #y\n",
    "})\n",
    "\n",
    "# print(classes.index('brain_menin'))\n",
    "# print(classes.index('brain_glioma'))\n",
    "# print(classes.index('brain_pituitary'))\n",
    "# print(classes.index('no_tumor'))\n",
    "\n",
    "print(classes)\n",
    "df.head()"
   ]
  },
  {
   "cell_type": "code",
   "execution_count": null,
   "metadata": {
    "id": "Q0oAgWu1iCwU",
    "outputId": "6e216161-f411-4190-f4a4-893d6021afba"
   },
   "outputs": [],
   "source": [
    "sb.countplot(x = y_train)"
   ]
  },
  {
   "cell_type": "code",
   "execution_count": null,
   "metadata": {
    "id": "lG3ErWhViCwU",
    "outputId": "615c72d8-1ae0-42c1-a28b-7480dbe18e47"
   },
   "outputs": [],
   "source": [
    "sb.countplot(x = y_test)"
   ]
  },
  {
   "cell_type": "code",
   "execution_count": 8,
   "metadata": {
    "id": "zPNII54jDPgg"
   },
   "outputs": [],
   "source": [
    "X_train = np.array(X_train)\n",
    "y_train = np.array(y_train)\n",
    "\n",
    "X_test = np.array(X_test)\n",
    "y_test = np.array(y_test)"
   ]
  },
  {
   "cell_type": "code",
   "execution_count": 9,
   "metadata": {
    "id": "uoSDxV2_iCwV",
    "outputId": "b955e28a-fdbe-4f97-a77d-8d49d71dde31"
   },
   "outputs": [
    {
     "name": "stdout",
     "output_type": "stream",
     "text": [
      "(16000, 128, 128, 3) (16000,)\n",
      "(4000, 128, 128, 3) (4000,)\n"
     ]
    }
   ],
   "source": [
    "print(X_train.shape, y_train.shape)\n",
    "print(X_test.shape, y_test.shape)"
   ]
  },
  {
   "cell_type": "code",
   "execution_count": 17,
   "metadata": {},
   "outputs": [
    {
     "name": "stdout",
     "output_type": "stream",
     "text": [
      "Epoch 1/5\n",
      "500/500 [==============================] - 595s 1s/step - loss: 0.7912 - accuracy: 0.8150 - val_loss: 0.2438 - val_accuracy: 0.9055\n",
      "Epoch 2/5\n",
      "500/500 [==============================] - 587s 1s/step - loss: 0.2691 - accuracy: 0.9013 - val_loss: 0.1903 - val_accuracy: 0.9293\n",
      "Epoch 3/5\n",
      "500/500 [==============================] - 583s 1s/step - loss: 0.2131 - accuracy: 0.9229 - val_loss: 0.1593 - val_accuracy: 0.9388\n",
      "Epoch 4/5\n",
      "500/500 [==============================] - 577s 1s/step - loss: 0.1745 - accuracy: 0.9368 - val_loss: 0.1777 - val_accuracy: 0.9290\n",
      "Epoch 5/5\n",
      "500/500 [==============================] - 569s 1s/step - loss: 0.1576 - accuracy: 0.9427 - val_loss: 0.1720 - val_accuracy: 0.9365\n",
      "125/125 [==============================] - 112s 898ms/step\n",
      "Model: \"sequential_4\"\n",
      "_________________________________________________________________\n",
      " Layer (type)                Output Shape              Param #   \n",
      "=================================================================\n",
      " vgg16 (Functional)          (None, 4, 4, 512)         14714688  \n",
      "                                                                 \n",
      " max_pooling2d_3 (MaxPooling  (None, 2, 2, 512)        0         \n",
      " 2D)                                                             \n",
      "                                                                 \n",
      " flatten_2 (Flatten)         (None, 2048)              0         \n",
      "                                                                 \n",
      " dense_9 (Dense)             (None, 128)               262272    \n",
      "                                                                 \n",
      " dropout_3 (Dropout)         (None, 128)               0         \n",
      "                                                                 \n",
      " dense_10 (Dense)            (None, 64)                8256      \n",
      "                                                                 \n",
      " dense_11 (Dense)            (None, 4)                 260       \n",
      "                                                                 \n",
      "=================================================================\n",
      "Total params: 14,985,476\n",
      "Trainable params: 270,788\n",
      "Non-trainable params: 14,714,688\n",
      "_________________________________________________________________\n"
     ]
    }
   ],
   "source": [
    "input_shape = (IMGSIZE, IMGSIZE, 3)\n",
    "num_classes = 4\n",
    "\n",
    "# Load the pre-trained VGG16 model (without the top classification layer)\n",
    "base_model = VGG16(weights = 'imagenet', include_top = False, input_shape = input_shape)\n",
    "\n",
    "# Freeze the layers of the pre-trained model\n",
    "for layer in base_model.layers:\n",
    "    layer.trainable = False\n",
    "\n",
    "vgg_model = Sequential()\n",
    "\n",
    "vgg_model.add(base_model)\n",
    "vgg_model.add(MaxPooling2D(pool_size = (2, 2)))\n",
    "vgg_model.add(Flatten())\n",
    "\n",
    "vgg_model.add(Dense(128, activation = 'relu'))\n",
    "vgg_model.add(Dropout(0.25))\n",
    "\n",
    "vgg_model.add(Dense(64, activation = 'relu'))\n",
    "vgg_model.add(Dense(num_classes, activation = 'softmax'))\n",
    "\n",
    "vgg_model.compile(optimizer = 'adam', loss = 'sparse_categorical_crossentropy', metrics = ['accuracy'])\n",
    "early_stopping = EarlyStopping(monitor = 'val_loss', patience = 3, restore_best_weights = True)\n",
    "results = vgg_model.fit(X_train, y_train, validation_data = (X_test, y_test), epochs = 5, batch_size = 32, callbacks = [early_stopping]) \n",
    "# val_loss, val_acc = vgg_model.evaluate(X_test, y_test)\n",
    "\n",
    "y_pred = vgg_model.predict(X_test)\n",
    "\n",
    "vgg_model.summary()"
   ]
  },
  {
   "cell_type": "code",
   "execution_count": null,
   "metadata": {
    "colab": {
     "base_uri": "https://localhost:8080/"
    },
    "id": "1hiVsLhx7g53",
    "outputId": "f4a3bda8-5521-4b6d-ddcb-de8bcd4dbf63",
    "scrolled": true
   },
   "outputs": [],
   "source": [
    "base_model = VGG16(weights = 'imagenet', include_top = False, input_shape = (IMGSIZE, IMGSIZE, 3))\n",
    "\n",
    "for layer in base_model.layers:\n",
    "    layer.trainable = False\n",
    "\n",
    "x = base_model.output\n",
    "x = GlobalAveragePooling2D()(x)\n",
    "\n",
    "x = Dense(128, activation = 'relu')(x)\n",
    "x = Dropout(0.25)(x)\n",
    "\n",
    "x = Dense(64, activation = 'relu')(x)\n",
    "predictions = Dense(4, activation = 'softmax')(x)\n",
    "\n",
    "model = Model(inputs = base_model.input, outputs = predictions)\n",
    "\n",
    "model.compile(optimizer = 'adam', loss = 'sparse_categorical_crossentropy', metrics = ['accuracy'])\n",
    "early_stopping = EarlyStopping(monitor = 'val_loss', patience = 3, restore_best_weights = True) \n",
    "results = model.fit(X_train, y_train, validation_data = (X_test, y_test), epochs = 10, batch_size = 32, callbacks = [early_stopping])  \n",
    "# val_loss, val_acc = model.evaluate(X_test, y_test)\n",
    "\n",
    "y_pred = model.predict(X_test)\n",
    "\n",
    "model.summary()"
   ]
  },
  {
   "cell_type": "code",
   "execution_count": null,
   "metadata": {
    "id": "aR8gzctW1IkY"
   },
   "outputs": [],
   "source": [
    "# model.save('C:\\\\Users\\\\mooha\\\\jupyter\\\\Graduation Project\\\\model_image_(VGG16).h5')\n",
    "loaded_model = load_model('C:\\\\Users\\\\mooha\\\\jupyter\\\\Graduation Project\\\\model_image_(VGG16).h5')\n",
    "\n",
    "# model.save('/content/GoogleDrive/MyDrive/Colab Notebooks/Neural Networks/Graduation Project/model_image_(Brain).h5')\n",
    "# loaded_model = load_model('/content/GoogleDrive/MyDrive/Colab Notebooks/Neural Networks/Graduation Project/model_image_(Brain).h5')  "
   ]
  },
  {
   "cell_type": "code",
   "execution_count": null,
   "metadata": {
    "colab": {
     "base_uri": "https://localhost:8080/",
     "height": 452
    },
    "id": "cId2mAn6eXWw",
    "outputId": "0cbabc84-be78-4a8e-f65a-9b1096d7c84d"
   },
   "outputs": [],
   "source": [
    "plt.plot(results.history['accuracy'], label = 'Training Accuracy')\n",
    "plt.plot(results.history['val_accuracy'], label = 'Testing Accuracy')\n",
    "plt.xlabel('Epochs')\n",
    "plt.ylabel('Accuracy')\n",
    "plt.legend()\n",
    "plt.show()"
   ]
  },
  {
   "cell_type": "code",
   "execution_count": null,
   "metadata": {
    "colab": {
     "base_uri": "https://localhost:8080/",
     "height": 449
    },
    "id": "uulcHW9Z2lRe",
    "outputId": "1bc356df-e01b-4b7d-ce8a-947d7098d4d6"
   },
   "outputs": [],
   "source": [
    "plt.plot(results.history['loss'], label = 'Training Loss')\n",
    "plt.plot(results.history['val_loss'], label = 'Testing Loss')\n",
    "plt.xlabel('Epochs')\n",
    "plt.ylabel('Loss')\n",
    "plt.legend()\n",
    "plt.show()"
   ]
  },
  {
   "cell_type": "code",
   "execution_count": 20,
   "metadata": {
    "colab": {
     "base_uri": "https://localhost:8080/"
    },
    "id": "95YSmFe598P2",
    "outputId": "4c37f146-7153-495a-ffa9-cadd198d3466"
   },
   "outputs": [
    {
     "name": "stdout",
     "output_type": "stream",
     "text": [
      "['brain_glioma', 'brain_menin', 'no_tumor', 'brain_pituitary']\n",
      "[1 3 1 3 0 1 1 1 1 3 3 3 2 0 3 0 2 3 1 1 0 3 0 1 2] \n",
      "\n",
      "[[5.29886383e-05 4.98554967e-02 7.41263984e-09 9.50091600e-01]\n",
      " [2.06210156e-04 4.01468622e-03 4.07676271e-06 9.95775044e-01]\n",
      " [3.00027372e-04 9.99699831e-01 3.58079213e-12 1.49752665e-07]\n",
      " [7.09261816e-11 1.37761581e-05 3.09321492e-11 9.99986112e-01]\n",
      " [9.99281645e-01 6.86695625e-04 9.97236516e-09 3.17186132e-05]\n",
      " [2.70216972e-01 7.29706585e-01 1.66143451e-07 7.62886630e-05]\n",
      " [2.33221218e-01 7.61532426e-01 9.99403346e-05 5.14642848e-03]\n",
      " [1.61696628e-01 8.38230908e-01 1.82393251e-07 7.22345867e-05]\n",
      " [1.99519582e-06 9.99997914e-01 3.21204886e-17 6.65011587e-11]\n",
      " [3.00944247e-09 1.76915783e-04 3.22145111e-09 9.99823093e-01]\n",
      " [2.84871063e-03 4.53170808e-03 6.62837863e-07 9.92618918e-01]\n",
      " [1.68647304e-01 1.73639908e-01 2.18626689e-02 6.35850072e-01]\n",
      " [2.03777598e-18 1.08826386e-14 9.99999940e-01 5.63559078e-17]\n",
      " [9.99997199e-01 2.72518082e-06 3.59051303e-14 4.23547482e-12]\n",
      " [5.62607497e-03 2.15399396e-02 1.93163705e-05 9.72814620e-01]\n",
      " [9.99810934e-01 1.88958264e-04 7.12936599e-10 2.26056045e-07]\n",
      " [5.08652263e-15 1.50031619e-11 9.99999940e-01 1.23051902e-10]\n",
      " [4.16663261e-06 2.20539005e-04 7.97097041e-11 9.99775410e-01]\n",
      " [1.59669842e-04 9.99792814e-01 4.97705033e-09 4.73791624e-05]\n",
      " [2.50588804e-02 9.74919915e-01 4.97680617e-07 2.07267385e-05]\n",
      " [9.97220755e-01 2.75834533e-03 5.06933134e-07 2.04249955e-05]\n",
      " [8.36700201e-06 2.21910793e-03 1.15295045e-07 9.97772396e-01]\n",
      " [9.98698950e-01 1.24210212e-03 6.11496318e-07 5.83931978e-05]\n",
      " [1.27494382e-02 9.87250626e-01 6.27354028e-12 9.35227096e-09]\n",
      " [4.19809591e-23 1.64687602e-19 9.99999940e-01 1.85285920e-22]] \n",
      "\n",
      "[3, 3, 1, 3, 0, 1, 1, 1, 1, 3, 3, 3, 2, 0, 3, 0, 2, 3, 1, 1, 0, 3, 0, 1, 2] \n",
      "\n",
      "[[966  24   1   9]\n",
      " [ 86 830   4  80]\n",
      " [  1   1 997   1]\n",
      " [  4  36   7 953]] \n",
      "\n",
      "254 \n",
      "\n",
      "              precision    recall  f1-score   support\n",
      "\n",
      "           0       0.91      0.97      0.94      1000\n",
      "           1       0.93      0.83      0.88      1000\n",
      "           2       0.99      1.00      0.99      1000\n",
      "           3       0.91      0.95      0.93      1000\n",
      "\n",
      "    accuracy                           0.94      4000\n",
      "   macro avg       0.94      0.94      0.94      4000\n",
      "weighted avg       0.94      0.94      0.94      4000\n",
      "\n"
     ]
    }
   ],
   "source": [
    "print(classes)\n",
    "print(y_test[:25], '\\n')\n",
    "print(y_pred[:25], '\\n')\n",
    "\n",
    "predict = []\n",
    "for i in range(len(y_pred)):\n",
    "  predict.append(np.argmax(y_pred[i]))\n",
    "\n",
    "print(predict[:25], '\\n')\n",
    "\n",
    "cm = confusion_matrix(y_test, predict)\n",
    "print(cm, '\\n')\n",
    "\n",
    "zol = zero_one_loss(y_test, predict, normalize = False)\n",
    "print(zol, '\\n')\n",
    "\n",
    "cr = classification_report(y_test, predict)\n",
    "print(cr)"
   ]
  },
  {
   "cell_type": "code",
   "execution_count": null,
   "metadata": {
    "colab": {
     "base_uri": "https://localhost:8080/",
     "height": 466
    },
    "id": "tyrQBSqkkrE4",
    "outputId": "0f058052-f6e1-4303-a8d7-a490e97a6d46",
    "scrolled": false
   },
   "outputs": [],
   "source": [
    "plt.figure(figsize = (5,5))\n",
    "ConfusionMatrixDisplay(cm).plot()\n",
    "plt.show()"
   ]
  },
  {
   "cell_type": "code",
   "execution_count": null,
   "metadata": {
    "id": "RMEDMRTRiCwW",
    "outputId": "76d56949-f39a-4893-c08a-5a9be2f2f601"
   },
   "outputs": [],
   "source": [
    "sb.countplot(x = predict)"
   ]
  },
  {
   "cell_type": "code",
   "execution_count": null,
   "metadata": {
    "colab": {
     "base_uri": "https://localhost:8080/",
     "height": 1000
    },
    "id": "Yz0Or0ZaiCwX",
    "outputId": "c01432ee-f711-404b-afac-1f938a1c9e93",
    "scrolled": false
   },
   "outputs": [],
   "source": [
    "plot_model(model, show_shapes = True)"
   ]
  },
  {
   "cell_type": "code",
   "execution_count": null,
   "metadata": {
    "id": "1TD2Px9_iCwX",
    "outputId": "1d10738f-0073-4c1f-c319-1b5982bf424e",
    "scrolled": false
   },
   "outputs": [],
   "source": [
    "test_img_path = 'C:\\\\Users\\\\mooha\\\\jupyter\\\\Graduation Project\\\\image_dataset_(Brain)\\\\test\\\\brain_glioma\\\\brain_glioma_4736.jpg'\n",
    "# test_img_path = '/content/GoogleDrive/MyDrive/Colab Notebooks/Neural Networks/Graduation Project/image_dataset_(Brain)/test/brain_glioma/brain_glioma_4736.jpg'  \n",
    "test_img = cv2.imread(test_img_path)\n",
    "test_img = cv2.resize(test_img, (IMGSIZE,IMGSIZE))\n",
    "\n",
    "plt.imshow(test_img)\n",
    "\n",
    "test_img = test_img[tf.newaxis, ...]\n",
    "test_predict = vgg_model.predict(test_img)\n",
    "# test_predict = loaded_model.predict(test_img)\n",
    "\n",
    "str1 = test_img_path.split('\\\\')[-1].split('_')[0]\n",
    "str2 = test_img_path.split('\\\\')[-1].split('_')[1]\n",
    "str3 = classes[np.argmax(test_predict)].split('_')[0] + ' ' + classes[np.argmax(test_predict)].split('_')[1]\n",
    "\n",
    "plt.title('Actual: ' + str1 + ' ' + str2 + '\\n Predicted: ' + str3)\n",
    "\n",
    "print(test_predict)\n",
    "print(classes)\n",
    "plt.show()"
   ]
  }
 ],
 "metadata": {
  "colab": {
   "provenance": []
  },
  "gpuClass": "standard",
  "kernelspec": {
   "display_name": "Python 3 (ipykernel)",
   "language": "python",
   "name": "python3"
  },
  "language_info": {
   "codemirror_mode": {
    "name": "ipython",
    "version": 3
   },
   "file_extension": ".py",
   "mimetype": "text/x-python",
   "name": "python",
   "nbconvert_exporter": "python",
   "pygments_lexer": "ipython3",
   "version": "3.10.9"
  },
  "varInspector": {
   "cols": {
    "lenName": 16,
    "lenType": 16,
    "lenVar": 40
   },
   "kernels_config": {
    "python": {
     "delete_cmd_postfix": "",
     "delete_cmd_prefix": "del ",
     "library": "var_list.py",
     "varRefreshCmd": "print(var_dic_list())"
    },
    "r": {
     "delete_cmd_postfix": ") ",
     "delete_cmd_prefix": "rm(",
     "library": "var_list.r",
     "varRefreshCmd": "cat(var_dic_list()) "
    }
   },
   "types_to_exclude": [
    "module",
    "function",
    "builtin_function_or_method",
    "instance",
    "_Feature"
   ],
   "window_display": false
  }
 },
 "nbformat": 4,
 "nbformat_minor": 1
}
